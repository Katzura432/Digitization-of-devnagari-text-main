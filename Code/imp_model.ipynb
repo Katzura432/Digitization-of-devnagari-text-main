{
 "cells": [
  {
   "cell_type": "code",
   "execution_count": null,
   "metadata": {},
   "outputs": [],
   "source": [
    "import tensorflow as tf\n",
    "import keras\n",
    "from keras import datasets, layers, models\n",
    "import matplotlib.pyplot as plt\n",
    "import numpy as np\n",
    "import pandas as pd\n",
    "from keras.models import Sequential, load_model\n",
    "from keras.layers import Dense, Dropout, Activation, Flatten\n",
    "from keras.layers import Conv2D, MaxPooling2D, AveragePooling2D\n",
    "from keras.optimizers import Adam\n",
    "import cv2\n",
    "import os\n",
    "from keras_preprocessing import image\n",
    "from keras_preprocessing.image import ImageDataGenerator\n",
    "from keras.callbacks import ModelCheckpoint, ReduceLROnPlateau, CSVLogger, EarlyStopping\n",
    "from sklearn.metrics import classification_report, confusion_matrix, ConfusionMatrixDisplay\n",
    "from sklearn.metrics import accuracy_score, precision_score, recall_score, f1_score, roc_curve, roc_auc_score"
   ]
  },
  {
   "cell_type": "code",
   "execution_count": null,
   "metadata": {},
   "outputs": [],
   "source": [
    "dataset_path = 'Datasets/improvised_images/'"
   ]
  },
  {
   "cell_type": "code",
   "execution_count": null,
   "metadata": {},
   "outputs": [],
   "source": [
    "image_size = (32,32)\n",
    "batch_size = 32\n",
    "\n",
    "#Data generators\n",
    "train_datagen = ImageDataGenerator(rescale=1./255, validation_split=0.2)\n",
    "\n",
    "train_batches = train_datagen.flow_from_directory(\n",
    "    dataset_path,\n",
    "    target_size=image_size,\n",
    "    batch_size=batch_size,\n",
    "    color_mode = 'grayscale',\n",
    "    class_mode='sparse',\n",
    "    subset='training'\n",
    ")\n",
    "\n",
    "validation_batches = train_datagen.flow_from_directory(\n",
    "    dataset_path,\n",
    "    target_size=image_size,\n",
    "    batch_size=batch_size,\n",
    "    color_mode = 'grayscale',\n",
    "    class_mode='sparse',\n",
    "    subset='validation'\n",
    ")\n",
    "\n",
    "test_batches = train_datagen.flow_from_directory(\n",
    "    dataset_path,\n",
    "    target_size=image_size,\n",
    "    batch_size=batch_size,\n",
    "    color_mode = 'grayscale',\n",
    "    class_mode='sparse',\n",
    "    shuffle=False,\n",
    "    subset='validation'\n",
    ")"
   ]
  },
  {
   "cell_type": "code",
   "execution_count": null,
   "metadata": {},
   "outputs": [],
   "source": [
    "train_batches.class_indices"
   ]
  },
  {
   "cell_type": "code",
   "execution_count": null,
   "metadata": {},
   "outputs": [],
   "source": [
    "imp_characters = ['क','ख','ग','घ','ङ','च','छ','ज','झ','ञ','ट','ठ','ड','ढ','ण','त','थ','द','ध','न','प','फ','ब',\n",
    "                'भ','म','य','र','ल','व','श','ष','स','ह','क्ष','त्र','ज्ञ','अ','इ','उ','ऊ','ऋ','ए','क्र','ट्र','त्त','द्य',\n",
    "                'प्र','श्र','रु','८']"
   ]
  },
  {
   "cell_type": "code",
   "execution_count": null,
   "metadata": {},
   "outputs": [],
   "source": [
    "def plotImages(image_arr):\n",
    "    fig, axes = plt.subplots(1,5)\n",
    "    axes = axes.flatten()\n",
    "    for img, ax in zip(image_arr, axes):\n",
    "        ax.imshow(img[:,:,0])\n",
    "        ax.axis('off')\n",
    "    plt.tight_layout()\n",
    "    plt.show()\n",
    "\n",
    "imgs, labels = train_batches[0]\n",
    "plotImages(imgs)\n",
    "for i in range(5):\n",
    "  print(imp_characters[int(labels[:5][i])],end='\\t')"
   ]
  },
  {
   "cell_type": "code",
   "execution_count": null,
   "metadata": {},
   "outputs": [],
   "source": [
    "imgs.shape"
   ]
  },
  {
   "cell_type": "code",
   "execution_count": null,
   "metadata": {},
   "outputs": [],
   "source": [
    "labels.shape"
   ]
  },
  {
   "cell_type": "code",
   "execution_count": null,
   "metadata": {},
   "outputs": [],
   "source": [
    "model1 = Sequential()\n",
    "\n",
    "model1.add(Conv2D(128, (3, 3), strides = 1, activation = 'relu', input_shape = (32, 32, 1)))\n",
    "model1.add(MaxPooling2D((2, 2), strides = (2, 2), padding = 'same'))\n",
    "model1.add(Dropout(0.25))\n",
    "\n",
    "model1.add(Conv2D(128, (3, 3), strides = 1, activation = 'relu'))\n",
    "model1.add(MaxPooling2D((2, 2), strides = (2, 2), padding = 'same'))\n",
    "model1.add(Dropout(0.25))\n",
    "\n",
    "model1.add(Conv2D(128, (3, 3), strides = 1, activation = 'relu'))\n",
    "model1.add(MaxPooling2D((2, 2), strides = (2, 2), padding = 'same'))\n",
    "model1.add(Dropout(0.25))\n",
    "\n",
    "model1.add(Flatten())\n",
    "\n",
    "model1.add(Dense(256, activation = 'relu', kernel_initializer = 'he_uniform'))\n",
    "model1.add(Dropout(0.2))\n",
    "\n",
    "model1.add(Dense(128, activation = 'relu', kernel_initializer = 'he_uniform'))\n",
    "model1.add(Dropout(0.2))\n",
    "\n",
    "model1.add(Dense(50, activation = 'softmax'))"
   ]
  },
  {
   "cell_type": "code",
   "execution_count": null,
   "metadata": {},
   "outputs": [],
   "source": [
    "model1.summary()"
   ]
  },
  {
   "cell_type": "code",
   "execution_count": null,
   "metadata": {},
   "outputs": [],
   "source": [
    "model1.compile(optimizer = Adam(learning_rate = 1e-3, decay = 1e-5), \n",
    "               loss = 'sparse_categorical_crossentropy', \n",
    "               metrics = ['accuracy'])"
   ]
  },
  {
   "cell_type": "code",
   "execution_count": null,
   "metadata": {},
   "outputs": [],
   "source": [
    "if not os.path.isdir('Models/imp_Model'):\n",
    "    os.mkdir('Models/imp_Model')"
   ]
  },
  {
   "cell_type": "code",
   "execution_count": null,
   "metadata": {},
   "outputs": [],
   "source": [
    "callbacks1 = [ReduceLROnPlateau(monitor = 'val_loss', factor = 0.1,\n",
    "                              patience = 7, min_lr = 1e-5),\n",
    "             EarlyStopping(monitor = 'val_loss', patience = 9, # Patience should be larger than the one in ReduceLROnPlateau\n",
    "                          min_delta = 1e-5),\n",
    "             CSVLogger(os.path.join('Models/imp_Model','m_training_1.csv'), separator =',', append = True),\n",
    "             ModelCheckpoint(os.path.join('Models/imp_Model', 'backup_last_model.hdf5')),\n",
    "             ModelCheckpoint(os.path.join('Models/imp_Model', 'best_val_acc.hdf5'), monitor = 'val_accuracy', mode = 'max', save_best_only = True),\n",
    "             ModelCheckpoint(os.path.join('Models/imp_Model', 'best_val_loss.hdf5'), monitor = 'val_loss', mode = 'min', save_best_only = True)]"
   ]
  },
  {
   "cell_type": "code",
   "execution_count": null,
   "metadata": {},
   "outputs": [],
   "source": [
    "model1.fit(train_batches, epochs = 30, validation_data = validation_batches, callbacks = callbacks1)"
   ]
  },
  {
   "cell_type": "code",
   "execution_count": null,
   "metadata": {},
   "outputs": [],
   "source": [
    "model1 = load_model(os.path.join('Models/imp_Model', 'best_val_loss.hdf5'))"
   ]
  },
  {
   "cell_type": "code",
   "execution_count": null,
   "metadata": {},
   "outputs": [],
   "source": [
    "i=0\n",
    "pred1=[]\n",
    "num1=model1.predict(test_batches) \n",
    "l=len(num1)\n",
    "#print(num1)\n",
    "for i in range(l):\n",
    "    val=np.argmax(num1[i])\n",
    "    i+=1\n",
    "    pred1.append(val)"
   ]
  },
  {
   "cell_type": "code",
   "execution_count": null,
   "metadata": {},
   "outputs": [],
   "source": [
    "m_cm1=confusion_matrix(test_batches.classes,pred1)\n",
    "print(m_cm1)"
   ]
  }
 ],
 "metadata": {
  "kernelspec": {
   "display_name": "Python 3",
   "language": "python",
   "name": "python3"
  },
  "language_info": {
   "codemirror_mode": {
    "name": "ipython",
    "version": 3
   },
   "file_extension": ".py",
   "mimetype": "text/x-python",
   "name": "python",
   "nbconvert_exporter": "python",
   "pygments_lexer": "ipython3",
   "version": "3.10.5"
  },
  "orig_nbformat": 4,
  "vscode": {
   "interpreter": {
    "hash": "293863fbfc4b6c9a0a37cf115310ece9f45c8d49cd3199e2b50a6c0c027d00fb"
   }
  }
 },
 "nbformat": 4,
 "nbformat_minor": 2
}
