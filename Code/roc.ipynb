{
 "cells": [
  {
   "cell_type": "code",
   "execution_count": null,
   "metadata": {},
   "outputs": [],
   "source": [
    "import numpy as np\n",
    "import os\n",
    "import matplotlib.pyplot as plt\n",
    "from sklearn.metrics import precision_recall_curve\n",
    "from keras.utils import to_categorical\n",
    "import tensorflow as tf\n",
    "from keras_preprocessing.image import ImageDataGenerator\n",
    "import keras\n",
    "from keras import datasets, layers, models\n",
    "import pandas as pd\n",
    "from keras.models import Sequential, load_model\n",
    "from sklearn.metrics import roc_curve, auc\n",
    "\n"
   ]
  },
  {
   "cell_type": "code",
   "execution_count": null,
   "metadata": {},
   "outputs": [],
   "source": [
    "dataset_path = 'path to the dataset'"
   ]
  },
  {
   "cell_type": "code",
   "execution_count": null,
   "metadata": {},
   "outputs": [],
   "source": [
    "image_size = (32,32)\n",
    "batch_size = 10\n",
    "\n",
    "#Data generators\n",
    "train_datagen = ImageDataGenerator(rescale=1./255, validation_split=0.2)\n",
    "\n",
    "train_batches = train_datagen.flow_from_directory(\n",
    "    dataset_path,\n",
    "    target_size=image_size,\n",
    "    batch_size=batch_size,\n",
    "    color_mode = 'grayscale',\n",
    "    class_mode='sparse',\n",
    "    subset='training',\n",
    "    shuffle='True'\n",
    ")\n",
    "\n",
    "validation_batches = train_datagen.flow_from_directory(\n",
    "    dataset_path,\n",
    "    target_size=image_size,\n",
    "    batch_size=batch_size,\n",
    "    color_mode = 'grayscale',\n",
    "    class_mode='sparse',\n",
    "    subset='validation',\n",
    "    shuffle='True'\n",
    ")\n",
    "\n",
    "test_batches = train_datagen.flow_from_directory(\n",
    "    dataset_path,\n",
    "    target_size=image_size,\n",
    "    batch_size=batch_size,\n",
    "    color_mode = 'grayscale',\n",
    "    class_mode='sparse',\n",
    "    shuffle=False,\n",
    "    subset='validation',\n",
    ")"
   ]
  },
  {
   "cell_type": "code",
   "execution_count": null,
   "metadata": {},
   "outputs": [],
   "source": [
    "model = load_model(os.path.join('path to Model folder', 'best_val_loss.hdf5'))"
   ]
  },
  {
   "cell_type": "code",
   "execution_count": null,
   "metadata": {},
   "outputs": [],
   "source": [
    "# Make predictions on the test set using the trained model\n",
    "y_pred = model.predict(test_batches)\n",
    "\n",
    "# Convert the predicted probabilities into binary class labels\n",
    "y_pred_class = np.argmax(y_pred, axis=1)\n",
    "\n",
    "# Convert the true labels into a one-hot encoded format\n",
    "y_test = to_categorical(test_batches.classes)\n",
    "\n",
    "# Define the number of classes\n",
    "num_classes = y_pred.shape[1]\n",
    "\n"
   ]
  },
  {
   "cell_type": "code",
   "execution_count": null,
   "metadata": {},
   "outputs": [],
   "source": [
    "print(num_classes)"
   ]
  },
  {
   "cell_type": "code",
   "execution_count": null,
   "metadata": {},
   "outputs": [],
   "source": [
    "# Plot the precision-recall curve for each class\n",
    "plt.rcParams['savefig.facecolor']='white'\n",
    "plt.figure(figsize=(15,19))\n",
    "for i in range(num_classes):\n",
    "    precision, recall, thresholds = precision_recall_curve(y_test[:, i], y_pred[:, i])\n",
    "    plt.plot(recall, precision, label='Class {}'.format(i))\n",
    "plt.xlabel('Recall')\n",
    "plt.ylabel('Precision')\n",
    "plt.title('Precision-Recall Curves for main character model2')\n",
    "plt.legend()\n",
    "plt.savefig('P-RC MC M2.png', bbox_inches='tight')\n",
    "plt.show()"
   ]
  },
  {
   "cell_type": "code",
   "execution_count": null,
   "metadata": {},
   "outputs": [],
   "source": [
    "y_true = test_batches.classes\n",
    "y_pred = model.predict(test_batches)\n",
    "y_pred = tf.argmax(y_pred, axis = 1).numpy()"
   ]
  },
  {
   "cell_type": "code",
   "execution_count": null,
   "metadata": {},
   "outputs": [],
   "source": [
    "fpr = dict()\n",
    "tpr = dict()\n",
    "roc_auc = dict()\n",
    "\n",
    "for i in range(19):\n",
    "    y_true_binary = np.zeros(y_true.shape)\n",
    "    y_true_binary[np.where(y_true==i)] = 1\n",
    "    \n",
    "    y_pred_binary = np.zeros(y_pred.shape)\n",
    "    y_pred_binary[np.where(y_pred==i)] = 1\n",
    "    \n",
    "    fpr[i], tpr[i], _ = roc_curve(y_true_binary, y_pred_binary)\n",
    "    roc_auc[i] = auc(fpr[i], tpr[i])\n",
    "\n",
    "plt.rcParams['savefig.facecolor']='white'   \n",
    "plt.figure(figsize=(10,9))\n",
    "for i in range(19):\n",
    "    plt.plot(fpr[i], tpr[i], label='Class {0} (AUC = {1:0.2f})'.format(i, roc_auc[i]))\n",
    "\n",
    "plt.plot([0, 1], [0, 1], 'k--')\n",
    "plt.xlim([0.0, 1.0])\n",
    "plt.ylim([0.0, 1.05])\n",
    "plt.xlabel('False Positive Rate')\n",
    "plt.ylabel('True Positive Rate')\n",
    "plt.title('Receiver Operating Characteristic (ROC) Curves for One-vs-All Binary Classification \\n for half character model1')\n",
    "plt.legend(loc=\"lower right\")\n",
    "plt.savefig('ROC for HC M1.png', bbox_inches='tight')\n",
    "plt.show()"
   ]
  }
 ],
 "metadata": {
  "kernelspec": {
   "display_name": "Python 3",
   "language": "python",
   "name": "python3"
  },
  "language_info": {
   "codemirror_mode": {
    "name": "ipython",
    "version": 3
   },
   "file_extension": ".py",
   "mimetype": "text/x-python",
   "name": "python",
   "nbconvert_exporter": "python",
   "pygments_lexer": "ipython3",
   "version": "3.10.5"
  },
  "orig_nbformat": 4,
  "vscode": {
   "interpreter": {
    "hash": "293863fbfc4b6c9a0a37cf115310ece9f45c8d49cd3199e2b50a6c0c027d00fb"
   }
  }
 },
 "nbformat": 4,
 "nbformat_minor": 2
}
