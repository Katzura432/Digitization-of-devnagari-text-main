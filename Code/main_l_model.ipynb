{
 "cells": [
  {
   "cell_type": "code",
   "execution_count": null,
   "metadata": {},
   "outputs": [],
   "source": [
    "import tensorflow as tf\n",
    "import keras\n",
    "from keras import datasets, layers, models\n",
    "import matplotlib.pyplot as plt\n",
    "import numpy as np\n",
    "import pandas as pd\n",
    "from keras.models import Sequential, load_model\n",
    "from keras.layers import Dense, Dropout, Activation, Flatten\n",
    "from keras.layers import Conv2D, MaxPooling2D, AveragePooling2D\n",
    "from keras.optimizers import Adam\n",
    "import cv2\n",
    "import os\n"
   ]
  },
  {
   "cell_type": "code",
   "execution_count": null,
   "metadata": {},
   "outputs": [],
   "source": [
    "from keras_preprocessing import image\n",
    "from keras_preprocessing.image import ImageDataGenerator\n",
    "from sklearn.preprocessing import label_binarize\n",
    "from keras.callbacks import ModelCheckpoint, ReduceLROnPlateau, CSVLogger, EarlyStopping\n",
    "from sklearn.metrics import classification_report, confusion_matrix, ConfusionMatrixDisplay\n",
    "from sklearn.metrics import accuracy_score, precision_score, recall_score, f1_score, roc_curve, roc_auc_score, auc\n",
    "from sklearn.multiclass import OneVsRestClassifier"
   ]
  },
  {
   "cell_type": "code",
   "execution_count": null,
   "metadata": {},
   "outputs": [],
   "source": [
    "dataset_path = 'Datasets/lower modifier'"
   ]
  },
  {
   "cell_type": "code",
   "execution_count": null,
   "metadata": {},
   "outputs": [],
   "source": [
    "image_size = (32,32)\n",
    "batch_size = 10\n",
    "\n",
    "#Data generators\n",
    "train_datagen = ImageDataGenerator(rescale=1./255, validation_split=0.2)\n",
    "\n",
    "train_batches = train_datagen.flow_from_directory(\n",
    "    dataset_path,\n",
    "    target_size=image_size,\n",
    "    batch_size=batch_size,\n",
    "    color_mode = 'grayscale',\n",
    "    class_mode='sparse',\n",
    "    subset='training'\n",
    ")\n",
    "\n",
    "validation_batches = train_datagen.flow_from_directory(\n",
    "    dataset_path,\n",
    "    target_size=image_size,\n",
    "    batch_size=batch_size,\n",
    "    color_mode = 'grayscale',\n",
    "    class_mode='sparse',\n",
    "    subset='validation'\n",
    ")\n",
    "\n",
    "test_batches = train_datagen.flow_from_directory(\n",
    "    dataset_path,\n",
    "    target_size=image_size,\n",
    "    batch_size=batch_size,\n",
    "    color_mode = 'grayscale',\n",
    "    class_mode='sparse',\n",
    "    subset='validation',\n",
    "    shuffle=False\n",
    ")"
   ]
  },
  {
   "cell_type": "code",
   "execution_count": null,
   "metadata": {},
   "outputs": [],
   "source": [
    "train_batches.class_indices"
   ]
  },
  {
   "cell_type": "code",
   "execution_count": null,
   "metadata": {},
   "outputs": [],
   "source": [
    "l_characters = ['ु','ू','्','ृ']"
   ]
  },
  {
   "cell_type": "code",
   "execution_count": null,
   "metadata": {},
   "outputs": [],
   "source": [
    "def plotImages(image_arr):\n",
    "    fig, axes = plt.subplots(1,5)\n",
    "    axes = axes.flatten()\n",
    "    for img, ax in zip(image_arr, axes):\n",
    "        ax.imshow(img[:,:,0])\n",
    "        ax.axis('off')\n",
    "    plt.tight_layout()\n",
    "    plt.show()\n",
    "\n",
    "imgs, labels = train_batches[0]\n",
    "plotImages(imgs)\n",
    "for i in range(5):\n",
    "  print(l_characters[int(labels[:5][i])],end='\\t')"
   ]
  },
  {
   "cell_type": "code",
   "execution_count": null,
   "metadata": {},
   "outputs": [],
   "source": [
    "imgs.shape"
   ]
  },
  {
   "cell_type": "code",
   "execution_count": null,
   "metadata": {},
   "outputs": [],
   "source": [
    "test_batches.classes"
   ]
  },
  {
   "cell_type": "code",
   "execution_count": null,
   "metadata": {},
   "outputs": [],
   "source": [
    "labels.shape"
   ]
  },
  {
   "cell_type": "code",
   "execution_count": null,
   "metadata": {},
   "outputs": [],
   "source": [
    "model1 = Sequential()\n",
    "\n",
    "model1.add(Conv2D(128, (3, 3), strides = 1, activation = 'relu', input_shape = (32, 32, 1)))\n",
    "model1.add(MaxPooling2D((2, 2), strides = (2, 2), padding = 'same'))\n",
    "model1.add(Dropout(0.25))\n",
    "\n",
    "model1.add(Conv2D(128, (3, 3), strides = 1, activation = 'relu'))\n",
    "model1.add(MaxPooling2D((2, 2), strides = (2, 2), padding = 'same'))\n",
    "model1.add(Dropout(0.25))\n",
    "\n",
    "model1.add(Conv2D(128, (3, 3), strides = 1, activation = 'relu'))\n",
    "model1.add(MaxPooling2D((2, 2), strides = (2, 2), padding = 'same'))\n",
    "model1.add(Dropout(0.25))\n",
    "\n",
    "model1.add(Flatten())\n",
    "\n",
    "model1.add(Dense(128, activation = 'relu', kernel_initializer = 'he_uniform'))\n",
    "model1.add(Dropout(0.2))\n",
    "\n",
    "model1.add(Dense(50, activation = 'relu', kernel_initializer = 'he_uniform'))\n",
    "model1.add(Dropout(0.2))\n",
    "\n",
    "model1.add(Dense(4, activation = 'softmax'))"
   ]
  },
  {
   "cell_type": "code",
   "execution_count": null,
   "metadata": {},
   "outputs": [],
   "source": [
    "model1.summary()"
   ]
  },
  {
   "cell_type": "code",
   "execution_count": null,
   "metadata": {},
   "outputs": [],
   "source": [
    "model1.compile(optimizer = Adam(learning_rate = 1e-3, decay = 1e-5), loss = 'sparse_categorical_crossentropy', metrics = ['accuracy'])"
   ]
  },
  {
   "cell_type": "code",
   "execution_count": null,
   "metadata": {},
   "outputs": [],
   "source": [
    "if not os.path.isdir('Models/l_Model_1'):\n",
    "    os.mkdir('Models/l_Model_1')"
   ]
  },
  {
   "cell_type": "code",
   "execution_count": null,
   "metadata": {},
   "outputs": [],
   "source": [
    "callbacks1 = [ReduceLROnPlateau(monitor = 'val_loss', factor = 0.1,\n",
    "                              patience = 7, min_lr = 1e-5),\n",
    "             EarlyStopping(monitor = 'val_loss', patience = 9, # Patience should be larger than the one in ReduceLROnPlateau\n",
    "                          min_delta = 1e-5),\n",
    "             CSVLogger(os.path.join('Models/l_Model_1','l_training_1.csv'), separator =',', append = True),\n",
    "             ModelCheckpoint(os.path.join('Models/l_Model_1', 'backup_last_model.hdf5')),\n",
    "             ModelCheckpoint(os.path.join('Models/l_Model_1', 'best_val_acc.hdf5'), monitor = 'val_accuracy', mode = 'max', save_best_only = True),\n",
    "             ModelCheckpoint(os.path.join('Models/l_Model_1', 'best_val_loss.hdf5'), monitor = 'val_loss', mode = 'min', save_best_only = True)]"
   ]
  },
  {
   "cell_type": "code",
   "execution_count": null,
   "metadata": {},
   "outputs": [],
   "source": [
    "model1.fit(train_batches, epochs = 20, validation_data = validation_batches, callbacks = callbacks1)"
   ]
  },
  {
   "cell_type": "code",
   "execution_count": null,
   "metadata": {},
   "outputs": [],
   "source": [
    "model1 = load_model(os.path.join('Models/l_Model_1', 'best_val_loss.hdf5'))"
   ]
  },
  {
   "cell_type": "code",
   "execution_count": null,
   "metadata": {},
   "outputs": [],
   "source": [
    "i=0\n",
    "pred1=[]\n",
    "num1=model1.predict(test_batches)\n",
    "l=len(num1)\n",
    "print(num1)\n",
    "for i in range(l):\n",
    "    val=np.argmax(num1[i])\n",
    "    i+=1\n",
    "    pred1.append(val)"
   ]
  },
  {
   "cell_type": "code",
   "execution_count": null,
   "metadata": {},
   "outputs": [],
   "source": [
    "l_cm1=confusion_matrix(test_batches.classes,pred1)\n",
    "print(l_cm1)"
   ]
  },
  {
   "cell_type": "code",
   "execution_count": null,
   "metadata": {},
   "outputs": [],
   "source": [
    "print(accuracy_score(test_batches.classes,pred1))\n",
    "#print(precision_score(test_batches.classes,pred1))\n",
    "#print(recall_score(test_batches.classes,pred1))\n",
    "#print(f1_score(test_batches.classes,pred1))"
   ]
  },
  {
   "cell_type": "code",
   "execution_count": null,
   "metadata": {},
   "outputs": [],
   "source": [
    "nor_l_cm1=(np.round(l_cm1/np.sum(l_cm1,axis=1).reshape(-1,1),4))\n",
    "print(nor_l_cm1)"
   ]
  },
  {
   "cell_type": "code",
   "execution_count": null,
   "metadata": {},
   "outputs": [],
   "source": [
    "l_labels=['Rasho uoo','Dirga uoo','Khutta taneko','Re']"
   ]
  },
  {
   "cell_type": "code",
   "execution_count": null,
   "metadata": {},
   "outputs": [],
   "source": [
    "plt.rcParams['figure.figsize'] = (10.0, 10.0)\n",
    "plt.rcParams['font.size'] = 15\n",
    "plt.rcParams['savefig.facecolor']='white'\n",
    "display_c_m = ConfusionMatrixDisplay(l_cm1, display_labels=l_labels)\n",
    "display_c_m.plot(cmap='OrRd', xticks_rotation=25)\n",
    "plt.xticks(fontsize=15)\n",
    "plt.yticks(fontsize=15)\n",
    "plt.title('Confusion Matrix-1 for lower Modifier', fontsize=18)\n",
    "plt.savefig('l_confusion_matrix1.png', bbox_inches='tight')\n",
    "plt.show()"
   ]
  },
  {
   "cell_type": "code",
   "execution_count": null,
   "metadata": {},
   "outputs": [],
   "source": [
    "plt.rcParams['figure.figsize'] = (10.0, 10.0)\n",
    "plt.rcParams['font.size'] = 15\n",
    "display_c_m = ConfusionMatrixDisplay(nor_l_cm1, display_labels=l_labels)\n",
    "display_c_m.plot(cmap='OrRd', xticks_rotation=25)\n",
    "plt.rcParams['savefig.facecolor']='white'\n",
    "plt.xticks(fontsize=15)\n",
    "plt.yticks(fontsize=15)\n",
    "plt.title('Normalized Confusion Matrix-1 for lower Modifier', fontsize=18)\n",
    "plt.savefig('Nor_l_confusion_matrix1.png', bbox_inches='tight')\n",
    "plt.show()"
   ]
  },
  {
   "cell_type": "code",
   "execution_count": null,
   "metadata": {},
   "outputs": [],
   "source": [
    "print(classification_report(test_batches.classes,pred1))"
   ]
  },
  {
   "cell_type": "code",
   "execution_count": null,
   "metadata": {},
   "outputs": [],
   "source": [
    "roc_auc_score(test_batches.classes,num1, multi_class=\"ovr\")"
   ]
  },
  {
   "cell_type": "code",
   "execution_count": null,
   "metadata": {},
   "outputs": [],
   "source": [
    "test_batches.classes"
   ]
  },
  {
   "cell_type": "code",
   "execution_count": null,
   "metadata": {},
   "outputs": [],
   "source": [
    "from sklearn.preprocessing import LabelBinarizer\n",
    "\n",
    "label_binarizer = LabelBinarizer().fit(train_batches)\n",
    "y_onehot_test = label_binarizer.transform(test_batches)\n",
    "y_onehot_test.shape  # (n_samples, n_classes)"
   ]
  },
  {
   "cell_type": "code",
   "execution_count": null,
   "metadata": {},
   "outputs": [],
   "source": [
    "test_binarized = label_binarize(test_batches, classes=[0, 1, 2, 3])\n",
    "\n",
    "fpr={}\n",
    "tpr={}\n",
    "thresh={}\n",
    "roc_auc = dict()\n",
    "\n",
    "n_class = num1.shape[0]\n",
    "for i in range(n_class):\n",
    "    fpr[i], tpr[i], thresh[i] = roc_curve(test_binarized[:,i], num1[:,i])\n",
    "    roc_auc[i] = auc(fpr[i], tpr[i])\n",
    "\n",
    "    plt.plot(fpr[i], tpr[i], linestyle='--',\n",
    "             label='%s vs rest'%(test_batches.class_indices[i],roc_auc[i]))\n",
    "\n",
    "plt.plot([0,1],[0,1],'b--')\n",
    "plt.xlim([0,1])\n",
    "plt.ylim([0,1.05])\n",
    "plt.title('ROC curve')\n",
    "plt.xlabel('False positive rate')\n",
    "plt.ylabel('True Positive rate')\n",
    "plt.legend(loc='lower right')\n",
    "plt.show()"
   ]
  },
  {
   "cell_type": "code",
   "execution_count": null,
   "metadata": {},
   "outputs": [],
   "source": [
    "#fpr, tpr, thresholds = roc_curve(test_batches.classes, num1, pos_label = 1)"
   ]
  },
  {
   "cell_type": "code",
   "execution_count": null,
   "metadata": {},
   "outputs": [],
   "source": [
    "model2 = Sequential()\n",
    "\n",
    "model2.add(Conv2D(32, (5, 5), padding = 'same', activation = 'relu', kernel_initializer = 'he_uniform', input_shape = (32, 32, 1)))\n",
    "model2.add(Conv2D(32, (5, 5), padding = 'same', activation = 'relu', kernel_initializer = 'he_uniform'))\n",
    "model2.add(Conv2D(32, (5, 5), padding = 'same', activation = 'relu', kernel_initializer = 'he_uniform'))\n",
    "model2.add(MaxPooling2D((2, 2), strides = (2, 2)))\n",
    "model2.add(Dropout(0.25))\n",
    "\n",
    "model2.add(Conv2D(64, (3, 3), padding = 'same', activation = 'relu', kernel_initializer = 'he_uniform'))\n",
    "model2.add(Conv2D(64, (3, 3), padding = 'same', activation = 'relu', kernel_initializer = 'he_uniform'))\n",
    "model2.add(Conv2D(64, (3, 3), padding = 'same', activation = 'relu', kernel_initializer = 'he_uniform'))\n",
    "model2.add(MaxPooling2D((2, 2), strides = (2, 2)))\n",
    "model2.add(Dropout(0.25))\n",
    "\n",
    "model2.add(Flatten())\n",
    "\n",
    "model2.add(Dense(256, activation = 'relu', kernel_initializer = 'he_uniform'))\n",
    "model2.add(Dropout(0.25))\n",
    "\n",
    "model2.add(Dense(4, activation = 'softmax'))"
   ]
  },
  {
   "cell_type": "code",
   "execution_count": null,
   "metadata": {},
   "outputs": [],
   "source": [
    "model2.summary()"
   ]
  },
  {
   "cell_type": "code",
   "execution_count": null,
   "metadata": {},
   "outputs": [],
   "source": [
    "if not os.path.isdir('Models/l_Model_2'):\n",
    "    os.mkdir('Models/l_Model_2')"
   ]
  },
  {
   "cell_type": "code",
   "execution_count": null,
   "metadata": {},
   "outputs": [],
   "source": [
    "callbacks2 = [ReduceLROnPlateau(monitor = 'val_loss', factor = 0.1,\n",
    "                              patience = 7, min_lr = 1e-5),\n",
    "             EarlyStopping(monitor = 'val_loss', patience = 9, # Patience should be larger than the one in ReduceLROnPlateau\n",
    "                          min_delta = 1e-5),\n",
    "             CSVLogger(os.path.join('Models/l_Model_2','l_training_2.csv'), separator =',', append = True),\n",
    "             ModelCheckpoint(os.path.join('Models/l_Model_2', 'backup_last_model.hdf5')),\n",
    "             ModelCheckpoint(os.path.join('Models/l_Model_2', 'best_val_acc.hdf5'), monitor = 'val_accuracy', mode = 'max', save_best_only = True),\n",
    "             ModelCheckpoint(os.path.join('Models/l_Model_2', 'best_val_loss.hdf5'), monitor = 'val_loss', mode = 'min', save_best_only = True)]"
   ]
  },
  {
   "cell_type": "code",
   "execution_count": null,
   "metadata": {},
   "outputs": [],
   "source": [
    "model2.compile(optimizer = Adam(learning_rate = 1e-3, decay = 1e-5), \n",
    "               loss = 'sparse_categorical_crossentropy', \n",
    "               metrics = ['accuracy'])"
   ]
  },
  {
   "cell_type": "code",
   "execution_count": null,
   "metadata": {},
   "outputs": [],
   "source": [
    "model2.fit(train_batches, epochs = 20, validation_data = validation_batches, callbacks = callbacks2)"
   ]
  },
  {
   "cell_type": "code",
   "execution_count": null,
   "metadata": {},
   "outputs": [],
   "source": [
    "model2 = load_model(os.path.join('Models/l_Model_2', 'best_val_loss.hdf5'))"
   ]
  },
  {
   "cell_type": "code",
   "execution_count": null,
   "metadata": {},
   "outputs": [],
   "source": [
    "i=0\n",
    "pred2=[]\n",
    "num2=model2.predict(test_batches)\n",
    "l=len(num2)\n",
    "print(num2)\n",
    "for i in range(l):\n",
    "    val=np.argmax(num2[i])\n",
    "    i+=1\n",
    "    pred2.append(val)\n",
    "\n",
    "#print(pred2)"
   ]
  },
  {
   "cell_type": "code",
   "execution_count": null,
   "metadata": {},
   "outputs": [],
   "source": [
    "l_cm2=confusion_matrix(test_batches.classes,pred2)\n",
    "print(l_cm2)"
   ]
  },
  {
   "cell_type": "code",
   "execution_count": null,
   "metadata": {},
   "outputs": [],
   "source": [
    "nor_l_cm2=(np.round(l_cm2/np.sum(l_cm2,axis=1).reshape(-1,1),4))\n",
    "print(nor_l_cm1)"
   ]
  },
  {
   "cell_type": "code",
   "execution_count": null,
   "metadata": {},
   "outputs": [],
   "source": [
    "plt.rcParams['figure.figsize'] = (10.0, 10.0)\n",
    "plt.rcParams['font.size'] = 15\n",
    "plt.rcParams['savefig.facecolor']='white'\n",
    "display_c_m = ConfusionMatrixDisplay(l_cm2, display_labels=l_labels)\n",
    "display_c_m.plot(cmap='OrRd', xticks_rotation=25)\n",
    "plt.xticks(fontsize=15)\n",
    "plt.yticks(fontsize=15)\n",
    "plt.title('Confusion Matrix-2 for lower Modifier', fontsize=18)\n",
    "plt.savefig('l_confusion_matrix2.png', bbox_inches='tight')\n",
    "plt.show()"
   ]
  },
  {
   "cell_type": "code",
   "execution_count": null,
   "metadata": {},
   "outputs": [],
   "source": [
    "plt.rcParams['figure.figsize'] = (10.0, 10.0)\n",
    "plt.rcParams['font.size'] = 15\n",
    "plt.rcParams['savefig.facecolor']='white'\n",
    "display_c_m = ConfusionMatrixDisplay(nor_l_cm2, display_labels=l_labels)\n",
    "display_c_m.plot(cmap='OrRd', xticks_rotation=25)\n",
    "plt.xticks(fontsize=15)\n",
    "plt.yticks(fontsize=15)\n",
    "plt.title('Normalized Confusion Matrix-2 for lower Modifier', fontsize=18)\n",
    "plt.savefig('Nor_l_confusion_matrix2.png', bbox_inches='tight')\n",
    "plt.show()"
   ]
  },
  {
   "cell_type": "code",
   "execution_count": null,
   "metadata": {},
   "outputs": [],
   "source": [
    "print(classification_report(test_batches.classes,pred2))"
   ]
  }
 ],
 "metadata": {
  "kernelspec": {
   "display_name": "Python 3",
   "language": "python",
   "name": "python3"
  },
  "language_info": {
   "codemirror_mode": {
    "name": "ipython",
    "version": 3
   },
   "file_extension": ".py",
   "mimetype": "text/x-python",
   "name": "python",
   "nbconvert_exporter": "python",
   "pygments_lexer": "ipython3",
   "version": "3.10.5"
  },
  "orig_nbformat": 4,
  "vscode": {
   "interpreter": {
    "hash": "293863fbfc4b6c9a0a37cf115310ece9f45c8d49cd3199e2b50a6c0c027d00fb"
   }
  }
 },
 "nbformat": 4,
 "nbformat_minor": 2
}
